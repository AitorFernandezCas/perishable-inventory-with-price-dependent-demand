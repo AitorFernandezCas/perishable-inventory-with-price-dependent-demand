{
 "cells": [
  {
   "cell_type": "code",
   "execution_count": null,
   "id": "8519c2c4",
   "metadata": {},
   "outputs": [],
   "source": [
    "import pandas as pd\n",
    "import statsmodels.api as sm\n",
    "from pathlib import Path"
   ]
  }
 ],
 "metadata": {
  "kernelspec": {
   "display_name": "perishable-inventory-with-price-dependent--GeE_DwbB-py3.12",
   "language": "python",
   "name": "python3"
  },
  "language_info": {
   "name": "python",
   "version": "3.12.6"
  }
 },
 "nbformat": 4,
 "nbformat_minor": 5
}
